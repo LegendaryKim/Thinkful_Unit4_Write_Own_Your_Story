{
 "cells": [
  {
   "cell_type": "markdown",
   "metadata": {
    "collapsed": true
   },
   "source": [
    "## Write Your Own Story\n",
    "\n",
    "### Describe your ideal job to an industry professional\n",
    "My ideal job is a data scientist utilizing the power of big data that develop statistical models and perform featuring analysis to innovate industrial fields. I hope to identify new areas of opportunity with diverse sets of data with my programming techniques and statistical knowledge.\n",
    "\n",
    "### Describe the same job to a non-technical family member\n",
    "I would like to work in a job that makes me to grow my abilities within a positive work atmosphere and gives me a chance to continuously challenge myself.\n",
    "\n",
    "### Draft your aspirational professional summary\n",
    "I am a data scientist utilizing the power of big data that develop statistical models and perform featuring analysis to innovate industrial fields by constantly challenging myself.\n",
    "With my programming techniques and statistical knowledge, I love to identify new areas of opportunity with diverse sets of data. I am interested in continuously growing my abilities within a positive atmosphere with team member.\n"
   ]
  },
  {
   "cell_type": "code",
   "execution_count": null,
   "metadata": {
    "collapsed": true
   },
   "outputs": [],
   "source": []
  }
 ],
 "metadata": {
  "kernelspec": {
   "display_name": "Python 3",
   "language": "python",
   "name": "python3"
  },
  "language_info": {
   "codemirror_mode": {
    "name": "ipython",
    "version": 3
   },
   "file_extension": ".py",
   "mimetype": "text/x-python",
   "name": "python",
   "nbconvert_exporter": "python",
   "pygments_lexer": "ipython3",
   "version": "3.6.2"
  }
 },
 "nbformat": 4,
 "nbformat_minor": 2
}
